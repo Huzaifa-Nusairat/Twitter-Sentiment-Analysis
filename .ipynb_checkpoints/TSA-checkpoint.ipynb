{
 "cells": [
  {
   "cell_type": "markdown",
   "id": "e096d4c1-12e7-4eb9-b3f1-7602f991f379",
   "metadata": {
    "jp-MarkdownHeadingCollapsed": true,
    "tags": []
   },
   "source": [
    "### Libraries"
   ]
  },
  {
   "cell_type": "code",
   "execution_count": 1,
   "id": "072f3586-8fed-4f03-8e46-b6abf34f6284",
   "metadata": {},
   "outputs": [],
   "source": [
    "import pandas as pd\n",
    "import numpy as np\n",
    "import matplotlib.pyplot as plt\n",
    "import seaborn as sns\n",
    "import scipy\n",
    "import re, string, unicodedata\n",
    "import nltk\n",
    "import contractions\n",
    "from nltk import word_tokenize, sent_tokenize\n",
    "from nltk.corpus import stopwords\n",
    "from nltk.stem import LancasterStemmer, WordNetLemmatizer\n",
    "from collections import Counter\n",
    "from sklearn.feature_extraction.text import TfidfVectorizer\n",
    "from sklearn.feature_extraction.text import CountVectorizer\n",
    "import category_encoders as ce\n",
    "from sklearn.preprocessing import StandardScaler\n",
    "from sklearn.cluster import KMeans\n",
    "from sklearn.model_selection import train_test_split, KFold, cross_val_score\n",
    "from sklearn.model_selection import RandomizedSearchCV\n",
    "from sklearn.inspection import permutation_importance\n",
    "from sklearn.metrics import confusion_matrix, classification_report, f1_score, accuracy_score, roc_auc_score\n",
    "from plot_metric.functions import BinaryClassification\n",
    "from sklearn.naive_bayes import MultinomialNB\n",
    "from sklearn.linear_model import LogisticRegression\n",
    "from sklearn.neighbors import KNeighborsClassifier\n",
    "from lightgbm import LGBMClassifier\n",
    "from xgboost import XGBClassifier\n",
    "from IPython.display import display\n",
    "import random\n",
    "random.seed(111)\n",
    "import warnings\n",
    "warnings.filterwarnings('ignore')"
   ]
  },
  {
   "cell_type": "markdown",
   "id": "eff28a1e-e81c-4b30-987e-26a70e8be9af",
   "metadata": {
    "jp-MarkdownHeadingCollapsed": true,
    "tags": []
   },
   "source": [
    "### Read Data"
   ]
  },
  {
   "cell_type": "code",
   "execution_count": 2,
   "id": "758ded9a-387c-4e5e-94b0-d709a7638745",
   "metadata": {},
   "outputs": [
    {
     "name": "stdout",
     "output_type": "stream",
     "text": [
      "Read Data from train.csv, test.csv and sample_submission.csv is Done 😀\n",
      "The shape of Train:  (1279999, 14)\n",
      "The shape of Test:  (320000, 13)\n",
      "The shape of subSample:  (320000, 2)\n"
     ]
    }
   ],
   "source": [
    "path = '/home/huzaifa/Downloads/T_UAE training/ML2/Twitter_Sentiment_Analysis/Data/'\n",
    " \n",
    "try:\n",
    "    train = pd.read_csv(path+'train.csv')\n",
    "    test = pd.read_csv(path+'test.csv')\n",
    "    sub = pd.read_csv(path+'sample_submission.csv')\n",
    "    print('Read Data from {} is Done \\U0001f600'.format('train.csv, test.csv and sample_submission.csv'))\n",
    "    print('The shape of Train: ', train.shape)\n",
    "    print('The shape of Test: ', test.shape)\n",
    "    print('The shape of subSample: ', sub.shape)\n",
    "except Exception:\n",
    "    print('Can\\'t read Data ..! \\U0001F923')"
   ]
  },
  {
   "cell_type": "code",
   "execution_count": 3,
   "id": "9e9feafd-ce01-49cf-8c35-f1ac2962bc47",
   "metadata": {},
   "outputs": [
    {
     "name": "stdout",
     "output_type": "stream",
     "text": [
      "Train Data: \n"
     ]
    },
    {
     "data": {
      "text/html": [
       "<div>\n",
       "<style scoped>\n",
       "    .dataframe tbody tr th:only-of-type {\n",
       "        vertical-align: middle;\n",
       "    }\n",
       "\n",
       "    .dataframe tbody tr th {\n",
       "        vertical-align: top;\n",
       "    }\n",
       "\n",
       "    .dataframe thead th {\n",
       "        text-align: right;\n",
       "    }\n",
       "</style>\n",
       "<table border=\"1\" class=\"dataframe\">\n",
       "  <thead>\n",
       "    <tr style=\"text-align: right;\">\n",
       "      <th></th>\n",
       "      <th>Unnamed: 0</th>\n",
       "      <th>flag</th>\n",
       "      <th>user</th>\n",
       "      <th>text</th>\n",
       "      <th>id</th>\n",
       "      <th>target</th>\n",
       "      <th>day_name</th>\n",
       "      <th>month_name</th>\n",
       "      <th>day_number</th>\n",
       "      <th>season</th>\n",
       "      <th>year</th>\n",
       "      <th>hours</th>\n",
       "      <th>minutes</th>\n",
       "      <th>seconds</th>\n",
       "    </tr>\n",
       "  </thead>\n",
       "  <tbody>\n",
       "    <tr>\n",
       "      <th>0</th>\n",
       "      <td>0</td>\n",
       "      <td>NO_QUERY</td>\n",
       "      <td>xXxLaNNaxXx</td>\n",
       "      <td>@TeamTSwift of course u can  i have no idea.. ...</td>\n",
       "      <td>1248479</td>\n",
       "      <td>1</td>\n",
       "      <td>Mon</td>\n",
       "      <td>Jun</td>\n",
       "      <td>1</td>\n",
       "      <td>PDT</td>\n",
       "      <td>2009</td>\n",
       "      <td>14</td>\n",
       "      <td>8</td>\n",
       "      <td>40</td>\n",
       "    </tr>\n",
       "    <tr>\n",
       "      <th>1</th>\n",
       "      <td>1</td>\n",
       "      <td>NO_QUERY</td>\n",
       "      <td>pedroremedios</td>\n",
       "      <td>@Aaron_Vail I know! That's where I got your Tw...</td>\n",
       "      <td>978384</td>\n",
       "      <td>1</td>\n",
       "      <td>Mon</td>\n",
       "      <td>May</td>\n",
       "      <td>18</td>\n",
       "      <td>PDT</td>\n",
       "      <td>2009</td>\n",
       "      <td>0</td>\n",
       "      <td>36</td>\n",
       "      <td>36</td>\n",
       "    </tr>\n",
       "    <tr>\n",
       "      <th>2</th>\n",
       "      <td>2</td>\n",
       "      <td>NO_QUERY</td>\n",
       "      <td>susanhutchinson</td>\n",
       "      <td>@smilingtime Love the profile pic.  I have a p...</td>\n",
       "      <td>1136227</td>\n",
       "      <td>1</td>\n",
       "      <td>Sat</td>\n",
       "      <td>May</td>\n",
       "      <td>30</td>\n",
       "      <td>PDT</td>\n",
       "      <td>2009</td>\n",
       "      <td>18</td>\n",
       "      <td>30</td>\n",
       "      <td>14</td>\n",
       "    </tr>\n",
       "    <tr>\n",
       "      <th>3</th>\n",
       "      <td>3</td>\n",
       "      <td>NO_QUERY</td>\n",
       "      <td>abisignorelli</td>\n",
       "      <td>@VMGrapevine managed to get &amp;quot;throw some s...</td>\n",
       "      <td>1008923</td>\n",
       "      <td>1</td>\n",
       "      <td>Fri</td>\n",
       "      <td>May</td>\n",
       "      <td>22</td>\n",
       "      <td>PDT</td>\n",
       "      <td>2009</td>\n",
       "      <td>2</td>\n",
       "      <td>43</td>\n",
       "      <td>24</td>\n",
       "    </tr>\n",
       "    <tr>\n",
       "      <th>4</th>\n",
       "      <td>4</td>\n",
       "      <td>NO_QUERY</td>\n",
       "      <td>jodgozum</td>\n",
       "      <td>i'm doing a letter to the department.</td>\n",
       "      <td>738556</td>\n",
       "      <td>0</td>\n",
       "      <td>Sun</td>\n",
       "      <td>Jun</td>\n",
       "      <td>21</td>\n",
       "      <td>PDT</td>\n",
       "      <td>2009</td>\n",
       "      <td>6</td>\n",
       "      <td>43</td>\n",
       "      <td>36</td>\n",
       "    </tr>\n",
       "  </tbody>\n",
       "</table>\n",
       "</div>"
      ],
      "text/plain": [
       "   Unnamed: 0      flag             user  \\\n",
       "0           0  NO_QUERY      xXxLaNNaxXx   \n",
       "1           1  NO_QUERY    pedroremedios   \n",
       "2           2  NO_QUERY  susanhutchinson   \n",
       "3           3  NO_QUERY    abisignorelli   \n",
       "4           4  NO_QUERY         jodgozum   \n",
       "\n",
       "                                                text       id  target  \\\n",
       "0  @TeamTSwift of course u can  i have no idea.. ...  1248479       1   \n",
       "1  @Aaron_Vail I know! That's where I got your Tw...   978384       1   \n",
       "2  @smilingtime Love the profile pic.  I have a p...  1136227       1   \n",
       "3  @VMGrapevine managed to get &quot;throw some s...  1008923       1   \n",
       "4             i'm doing a letter to the department.    738556       0   \n",
       "\n",
       "  day_name month_name  day_number season  year  hours  minutes  seconds  \n",
       "0      Mon        Jun           1    PDT  2009     14        8       40  \n",
       "1      Mon        May          18    PDT  2009      0       36       36  \n",
       "2      Sat        May          30    PDT  2009     18       30       14  \n",
       "3      Fri        May          22    PDT  2009      2       43       24  \n",
       "4      Sun        Jun          21    PDT  2009      6       43       36  "
      ]
     },
     "metadata": {},
     "output_type": "display_data"
    },
    {
     "name": "stdout",
     "output_type": "stream",
     "text": [
      "Test Data: \n"
     ]
    },
    {
     "data": {
      "text/html": [
       "<div>\n",
       "<style scoped>\n",
       "    .dataframe tbody tr th:only-of-type {\n",
       "        vertical-align: middle;\n",
       "    }\n",
       "\n",
       "    .dataframe tbody tr th {\n",
       "        vertical-align: top;\n",
       "    }\n",
       "\n",
       "    .dataframe thead th {\n",
       "        text-align: right;\n",
       "    }\n",
       "</style>\n",
       "<table border=\"1\" class=\"dataframe\">\n",
       "  <thead>\n",
       "    <tr style=\"text-align: right;\">\n",
       "      <th></th>\n",
       "      <th>Unnamed: 0</th>\n",
       "      <th>flag</th>\n",
       "      <th>user</th>\n",
       "      <th>text</th>\n",
       "      <th>id</th>\n",
       "      <th>day_name</th>\n",
       "      <th>month_name</th>\n",
       "      <th>day_number</th>\n",
       "      <th>season</th>\n",
       "      <th>year</th>\n",
       "      <th>hours</th>\n",
       "      <th>minutes</th>\n",
       "      <th>seconds</th>\n",
       "    </tr>\n",
       "  </thead>\n",
       "  <tbody>\n",
       "    <tr>\n",
       "      <th>0</th>\n",
       "      <td>0</td>\n",
       "      <td>NO_QUERY</td>\n",
       "      <td>joycewashere</td>\n",
       "      <td>i hope i dont fall asleep in class. my eye is ...</td>\n",
       "      <td>496759</td>\n",
       "      <td>Mon</td>\n",
       "      <td>Jun</td>\n",
       "      <td>15</td>\n",
       "      <td>PDT</td>\n",
       "      <td>2009</td>\n",
       "      <td>17</td>\n",
       "      <td>43</td>\n",
       "      <td>46</td>\n",
       "    </tr>\n",
       "    <tr>\n",
       "      <th>1</th>\n",
       "      <td>1</td>\n",
       "      <td>NO_QUERY</td>\n",
       "      <td>simplyamee</td>\n",
       "      <td>@mOnsietOnsie  On the Libertys pups thread...t...</td>\n",
       "      <td>1329855</td>\n",
       "      <td>Wed</td>\n",
       "      <td>Jun</td>\n",
       "      <td>3</td>\n",
       "      <td>PDT</td>\n",
       "      <td>2009</td>\n",
       "      <td>5</td>\n",
       "      <td>22</td>\n",
       "      <td>28</td>\n",
       "    </tr>\n",
       "    <tr>\n",
       "      <th>2</th>\n",
       "      <td>2</td>\n",
       "      <td>NO_QUERY</td>\n",
       "      <td>sageinhand</td>\n",
       "      <td>Headed to the river... but radar looks like so...</td>\n",
       "      <td>50179</td>\n",
       "      <td>Sat</td>\n",
       "      <td>May</td>\n",
       "      <td>2</td>\n",
       "      <td>PDT</td>\n",
       "      <td>2009</td>\n",
       "      <td>6</td>\n",
       "      <td>36</td>\n",
       "      <td>11</td>\n",
       "    </tr>\n",
       "    <tr>\n",
       "      <th>3</th>\n",
       "      <td>3</td>\n",
       "      <td>NO_QUERY</td>\n",
       "      <td>sacherjj</td>\n",
       "      <td>I've been married for over a day now.  It stil...</td>\n",
       "      <td>1500541</td>\n",
       "      <td>Sun</td>\n",
       "      <td>Jun</td>\n",
       "      <td>7</td>\n",
       "      <td>PDT</td>\n",
       "      <td>2009</td>\n",
       "      <td>18</td>\n",
       "      <td>57</td>\n",
       "      <td>55</td>\n",
       "    </tr>\n",
       "    <tr>\n",
       "      <th>4</th>\n",
       "      <td>4</td>\n",
       "      <td>NO_QUERY</td>\n",
       "      <td>ShannaMoakler</td>\n",
       "      <td>It just makes me happy! over and over again! I...</td>\n",
       "      <td>1193</td>\n",
       "      <td>Mon</td>\n",
       "      <td>Apr</td>\n",
       "      <td>6</td>\n",
       "      <td>PDT</td>\n",
       "      <td>2009</td>\n",
       "      <td>23</td>\n",
       "      <td>43</td>\n",
       "      <td>45</td>\n",
       "    </tr>\n",
       "  </tbody>\n",
       "</table>\n",
       "</div>"
      ],
      "text/plain": [
       "   Unnamed: 0      flag           user  \\\n",
       "0           0  NO_QUERY   joycewashere   \n",
       "1           1  NO_QUERY     simplyamee   \n",
       "2           2  NO_QUERY     sageinhand   \n",
       "3           3  NO_QUERY       sacherjj   \n",
       "4           4  NO_QUERY  ShannaMoakler   \n",
       "\n",
       "                                                text       id day_name  \\\n",
       "0  i hope i dont fall asleep in class. my eye is ...   496759      Mon   \n",
       "1  @mOnsietOnsie  On the Libertys pups thread...t...  1329855      Wed   \n",
       "2  Headed to the river... but radar looks like so...    50179      Sat   \n",
       "3  I've been married for over a day now.  It stil...  1500541      Sun   \n",
       "4  It just makes me happy! over and over again! I...     1193      Mon   \n",
       "\n",
       "  month_name  day_number season  year  hours  minutes  seconds  \n",
       "0        Jun          15    PDT  2009     17       43       46  \n",
       "1        Jun           3    PDT  2009      5       22       28  \n",
       "2        May           2    PDT  2009      6       36       11  \n",
       "3        Jun           7    PDT  2009     18       57       55  \n",
       "4        Apr           6    PDT  2009     23       43       45  "
      ]
     },
     "metadata": {},
     "output_type": "display_data"
    }
   ],
   "source": [
    "print('Train Data: ')\n",
    "display(train.head())\n",
    "print('Test Data: ')\n",
    "display(test.head())"
   ]
  },
  {
   "cell_type": "markdown",
   "id": "841cfbba-be9e-4c90-9b5f-3a507ef1376d",
   "metadata": {
    "jp-MarkdownHeadingCollapsed": true,
    "tags": []
   },
   "source": [
    "### Data Analysis"
   ]
  },
  {
   "cell_type": "code",
   "execution_count": 4,
   "id": "73f15921-8138-4395-9530-07db46741c29",
   "metadata": {},
   "outputs": [
    {
     "name": "stdout",
     "output_type": "stream",
     "text": [
      "Train Info: \n",
      "<class 'pandas.core.frame.DataFrame'>\n",
      "RangeIndex: 1279999 entries, 0 to 1279998\n",
      "Data columns (total 14 columns):\n",
      " #   Column      Non-Null Count    Dtype \n",
      "---  ------      --------------    ----- \n",
      " 0   Unnamed: 0  1279999 non-null  int64 \n",
      " 1   flag        1279999 non-null  object\n",
      " 2   user        1279999 non-null  object\n",
      " 3   text        1279999 non-null  object\n",
      " 4   id          1279999 non-null  int64 \n",
      " 5   target      1279999 non-null  int64 \n",
      " 6   day_name    1279999 non-null  object\n",
      " 7   month_name  1279999 non-null  object\n",
      " 8   day_number  1279999 non-null  int64 \n",
      " 9   season      1279999 non-null  object\n",
      " 10  year        1279999 non-null  int64 \n",
      " 11  hours       1279999 non-null  int64 \n",
      " 12  minutes     1279999 non-null  int64 \n",
      " 13  seconds     1279999 non-null  int64 \n",
      "dtypes: int64(8), object(6)\n",
      "memory usage: 136.7+ MB\n"
     ]
    },
    {
     "data": {
      "text/plain": [
       "None"
      ]
     },
     "metadata": {},
     "output_type": "display_data"
    },
    {
     "name": "stdout",
     "output_type": "stream",
     "text": [
      "================================================\n",
      "Test Info: \n",
      "<class 'pandas.core.frame.DataFrame'>\n",
      "RangeIndex: 320000 entries, 0 to 319999\n",
      "Data columns (total 13 columns):\n",
      " #   Column      Non-Null Count   Dtype \n",
      "---  ------      --------------   ----- \n",
      " 0   Unnamed: 0  320000 non-null  int64 \n",
      " 1   flag        320000 non-null  object\n",
      " 2   user        320000 non-null  object\n",
      " 3   text        320000 non-null  object\n",
      " 4   id          320000 non-null  int64 \n",
      " 5   day_name    320000 non-null  object\n",
      " 6   month_name  320000 non-null  object\n",
      " 7   day_number  320000 non-null  int64 \n",
      " 8   season      320000 non-null  object\n",
      " 9   year        320000 non-null  int64 \n",
      " 10  hours       320000 non-null  int64 \n",
      " 11  minutes     320000 non-null  int64 \n",
      " 12  seconds     320000 non-null  int64 \n",
      "dtypes: int64(7), object(6)\n",
      "memory usage: 31.7+ MB\n"
     ]
    },
    {
     "data": {
      "text/plain": [
       "None"
      ]
     },
     "metadata": {},
     "output_type": "display_data"
    }
   ],
   "source": [
    "print('Train Info: ')\n",
    "display(train.info())\n",
    "print('================================================')\n",
    "print('Test Info: ')\n",
    "display(test.info())"
   ]
  },
  {
   "cell_type": "code",
   "execution_count": 5,
   "id": "c7114a1b-3c42-4c68-a6ea-ef9a220ed824",
   "metadata": {},
   "outputs": [
    {
     "name": "stdout",
     "output_type": "stream",
     "text": [
      "Train Describe: \n"
     ]
    },
    {
     "data": {
      "text/html": [
       "<div>\n",
       "<style scoped>\n",
       "    .dataframe tbody tr th:only-of-type {\n",
       "        vertical-align: middle;\n",
       "    }\n",
       "\n",
       "    .dataframe tbody tr th {\n",
       "        vertical-align: top;\n",
       "    }\n",
       "\n",
       "    .dataframe thead th {\n",
       "        text-align: right;\n",
       "    }\n",
       "</style>\n",
       "<table border=\"1\" class=\"dataframe\">\n",
       "  <thead>\n",
       "    <tr style=\"text-align: right;\">\n",
       "      <th></th>\n",
       "      <th>count</th>\n",
       "      <th>unique</th>\n",
       "      <th>top</th>\n",
       "      <th>freq</th>\n",
       "    </tr>\n",
       "  </thead>\n",
       "  <tbody>\n",
       "    <tr>\n",
       "      <th>flag</th>\n",
       "      <td>1279999</td>\n",
       "      <td>1</td>\n",
       "      <td>NO_QUERY</td>\n",
       "      <td>1279999</td>\n",
       "    </tr>\n",
       "    <tr>\n",
       "      <th>user</th>\n",
       "      <td>1279999</td>\n",
       "      <td>574318</td>\n",
       "      <td>lost_dog</td>\n",
       "      <td>443</td>\n",
       "    </tr>\n",
       "    <tr>\n",
       "      <th>text</th>\n",
       "      <td>1279999</td>\n",
       "      <td>1266581</td>\n",
       "      <td>isPlayer Has Died! Sorry</td>\n",
       "      <td>172</td>\n",
       "    </tr>\n",
       "    <tr>\n",
       "      <th>day_name</th>\n",
       "      <td>1279999</td>\n",
       "      <td>7</td>\n",
       "      <td>Sun</td>\n",
       "      <td>275601</td>\n",
       "    </tr>\n",
       "    <tr>\n",
       "      <th>month_name</th>\n",
       "      <td>1279999</td>\n",
       "      <td>3</td>\n",
       "      <td>Jun</td>\n",
       "      <td>738647</td>\n",
       "    </tr>\n",
       "    <tr>\n",
       "      <th>season</th>\n",
       "      <td>1279999</td>\n",
       "      <td>1</td>\n",
       "      <td>PDT</td>\n",
       "      <td>1279999</td>\n",
       "    </tr>\n",
       "  </tbody>\n",
       "</table>\n",
       "</div>"
      ],
      "text/plain": [
       "              count   unique                        top     freq\n",
       "flag        1279999        1                   NO_QUERY  1279999\n",
       "user        1279999   574318                   lost_dog      443\n",
       "text        1279999  1266581  isPlayer Has Died! Sorry       172\n",
       "day_name    1279999        7                        Sun   275601\n",
       "month_name  1279999        3                        Jun   738647\n",
       "season      1279999        1                        PDT  1279999"
      ]
     },
     "metadata": {},
     "output_type": "display_data"
    },
    {
     "name": "stdout",
     "output_type": "stream",
     "text": [
      "================================================\n",
      "Test Describe: \n"
     ]
    },
    {
     "data": {
      "text/html": [
       "<div>\n",
       "<style scoped>\n",
       "    .dataframe tbody tr th:only-of-type {\n",
       "        vertical-align: middle;\n",
       "    }\n",
       "\n",
       "    .dataframe tbody tr th {\n",
       "        vertical-align: top;\n",
       "    }\n",
       "\n",
       "    .dataframe thead th {\n",
       "        text-align: right;\n",
       "    }\n",
       "</style>\n",
       "<table border=\"1\" class=\"dataframe\">\n",
       "  <thead>\n",
       "    <tr style=\"text-align: right;\">\n",
       "      <th></th>\n",
       "      <th>count</th>\n",
       "      <th>unique</th>\n",
       "      <th>top</th>\n",
       "      <th>freq</th>\n",
       "    </tr>\n",
       "  </thead>\n",
       "  <tbody>\n",
       "    <tr>\n",
       "      <th>flag</th>\n",
       "      <td>320000</td>\n",
       "      <td>1</td>\n",
       "      <td>NO_QUERY</td>\n",
       "      <td>320000</td>\n",
       "    </tr>\n",
       "    <tr>\n",
       "      <th>user</th>\n",
       "      <td>320000</td>\n",
       "      <td>215318</td>\n",
       "      <td>lost_dog</td>\n",
       "      <td>106</td>\n",
       "    </tr>\n",
       "    <tr>\n",
       "      <th>text</th>\n",
       "      <td>320000</td>\n",
       "      <td>318291</td>\n",
       "      <td>isPlayer Has Died! Sorry</td>\n",
       "      <td>38</td>\n",
       "    </tr>\n",
       "    <tr>\n",
       "      <th>day_name</th>\n",
       "      <td>320000</td>\n",
       "      <td>7</td>\n",
       "      <td>Sun</td>\n",
       "      <td>68954</td>\n",
       "    </tr>\n",
       "    <tr>\n",
       "      <th>month_name</th>\n",
       "      <td>320000</td>\n",
       "      <td>3</td>\n",
       "      <td>Jun</td>\n",
       "      <td>184961</td>\n",
       "    </tr>\n",
       "    <tr>\n",
       "      <th>season</th>\n",
       "      <td>320000</td>\n",
       "      <td>1</td>\n",
       "      <td>PDT</td>\n",
       "      <td>320000</td>\n",
       "    </tr>\n",
       "  </tbody>\n",
       "</table>\n",
       "</div>"
      ],
      "text/plain": [
       "             count  unique                        top    freq\n",
       "flag        320000       1                   NO_QUERY  320000\n",
       "user        320000  215318                   lost_dog     106\n",
       "text        320000  318291  isPlayer Has Died! Sorry       38\n",
       "day_name    320000       7                        Sun   68954\n",
       "month_name  320000       3                        Jun  184961\n",
       "season      320000       1                        PDT  320000"
      ]
     },
     "metadata": {},
     "output_type": "display_data"
    }
   ],
   "source": [
    "print('Train Describe: ')\n",
    "display(train.describe(include='O').T)\n",
    "print('================================================')\n",
    "print('Test Describe: ')\n",
    "display(test.describe(include='O').T)"
   ]
  },
  {
   "cell_type": "code",
   "execution_count": 6,
   "id": "168aeed3-3503-446e-ab75-e77a9047ad87",
   "metadata": {},
   "outputs": [
    {
     "name": "stdout",
     "output_type": "stream",
     "text": [
      "Train Describe: \n"
     ]
    },
    {
     "data": {
      "text/html": [
       "<div>\n",
       "<style scoped>\n",
       "    .dataframe tbody tr th:only-of-type {\n",
       "        vertical-align: middle;\n",
       "    }\n",
       "\n",
       "    .dataframe tbody tr th {\n",
       "        vertical-align: top;\n",
       "    }\n",
       "\n",
       "    .dataframe thead th {\n",
       "        text-align: right;\n",
       "    }\n",
       "</style>\n",
       "<table border=\"1\" class=\"dataframe\">\n",
       "  <thead>\n",
       "    <tr style=\"text-align: right;\">\n",
       "      <th></th>\n",
       "      <th>count</th>\n",
       "      <th>mean</th>\n",
       "      <th>std</th>\n",
       "      <th>min</th>\n",
       "      <th>25%</th>\n",
       "      <th>50%</th>\n",
       "      <th>75%</th>\n",
       "      <th>max</th>\n",
       "    </tr>\n",
       "  </thead>\n",
       "  <tbody>\n",
       "    <tr>\n",
       "      <th>Unnamed: 0</th>\n",
       "      <td>1279999.0</td>\n",
       "      <td>639999.000000</td>\n",
       "      <td>369504.027944</td>\n",
       "      <td>0.0</td>\n",
       "      <td>319999.5</td>\n",
       "      <td>639999.0</td>\n",
       "      <td>959998.5</td>\n",
       "      <td>1279998.0</td>\n",
       "    </tr>\n",
       "    <tr>\n",
       "      <th>id</th>\n",
       "      <td>1279999.0</td>\n",
       "      <td>800053.045596</td>\n",
       "      <td>461967.431979</td>\n",
       "      <td>3.0</td>\n",
       "      <td>399983.5</td>\n",
       "      <td>800217.0</td>\n",
       "      <td>1200145.0</td>\n",
       "      <td>1599999.0</td>\n",
       "    </tr>\n",
       "    <tr>\n",
       "      <th>target</th>\n",
       "      <td>1279999.0</td>\n",
       "      <td>0.500126</td>\n",
       "      <td>0.500000</td>\n",
       "      <td>0.0</td>\n",
       "      <td>0.0</td>\n",
       "      <td>1.0</td>\n",
       "      <td>1.0</td>\n",
       "      <td>1.0</td>\n",
       "    </tr>\n",
       "    <tr>\n",
       "      <th>day_number</th>\n",
       "      <td>1279999.0</td>\n",
       "      <td>14.813262</td>\n",
       "      <td>9.789033</td>\n",
       "      <td>1.0</td>\n",
       "      <td>6.0</td>\n",
       "      <td>16.0</td>\n",
       "      <td>21.0</td>\n",
       "      <td>31.0</td>\n",
       "    </tr>\n",
       "    <tr>\n",
       "      <th>year</th>\n",
       "      <td>1279999.0</td>\n",
       "      <td>2009.000000</td>\n",
       "      <td>0.000000</td>\n",
       "      <td>2009.0</td>\n",
       "      <td>2009.0</td>\n",
       "      <td>2009.0</td>\n",
       "      <td>2009.0</td>\n",
       "      <td>2009.0</td>\n",
       "    </tr>\n",
       "    <tr>\n",
       "      <th>hours</th>\n",
       "      <td>1279999.0</td>\n",
       "      <td>10.963077</td>\n",
       "      <td>7.215580</td>\n",
       "      <td>0.0</td>\n",
       "      <td>5.0</td>\n",
       "      <td>10.0</td>\n",
       "      <td>18.0</td>\n",
       "      <td>23.0</td>\n",
       "    </tr>\n",
       "    <tr>\n",
       "      <th>minutes</th>\n",
       "      <td>1279999.0</td>\n",
       "      <td>29.526810</td>\n",
       "      <td>17.357280</td>\n",
       "      <td>0.0</td>\n",
       "      <td>14.0</td>\n",
       "      <td>30.0</td>\n",
       "      <td>45.0</td>\n",
       "      <td>59.0</td>\n",
       "    </tr>\n",
       "    <tr>\n",
       "      <th>seconds</th>\n",
       "      <td>1279999.0</td>\n",
       "      <td>29.352680</td>\n",
       "      <td>17.200640</td>\n",
       "      <td>0.0</td>\n",
       "      <td>15.0</td>\n",
       "      <td>29.0</td>\n",
       "      <td>44.0</td>\n",
       "      <td>59.0</td>\n",
       "    </tr>\n",
       "  </tbody>\n",
       "</table>\n",
       "</div>"
      ],
      "text/plain": [
       "                count           mean            std     min       25%  \\\n",
       "Unnamed: 0  1279999.0  639999.000000  369504.027944     0.0  319999.5   \n",
       "id          1279999.0  800053.045596  461967.431979     3.0  399983.5   \n",
       "target      1279999.0       0.500126       0.500000     0.0       0.0   \n",
       "day_number  1279999.0      14.813262       9.789033     1.0       6.0   \n",
       "year        1279999.0    2009.000000       0.000000  2009.0    2009.0   \n",
       "hours       1279999.0      10.963077       7.215580     0.0       5.0   \n",
       "minutes     1279999.0      29.526810      17.357280     0.0      14.0   \n",
       "seconds     1279999.0      29.352680      17.200640     0.0      15.0   \n",
       "\n",
       "                 50%        75%        max  \n",
       "Unnamed: 0  639999.0   959998.5  1279998.0  \n",
       "id          800217.0  1200145.0  1599999.0  \n",
       "target           1.0        1.0        1.0  \n",
       "day_number      16.0       21.0       31.0  \n",
       "year          2009.0     2009.0     2009.0  \n",
       "hours           10.0       18.0       23.0  \n",
       "minutes         30.0       45.0       59.0  \n",
       "seconds         29.0       44.0       59.0  "
      ]
     },
     "metadata": {},
     "output_type": "display_data"
    },
    {
     "name": "stdout",
     "output_type": "stream",
     "text": [
      "================================================\n",
      "Test Describe: \n"
     ]
    },
    {
     "data": {
      "text/html": [
       "<div>\n",
       "<style scoped>\n",
       "    .dataframe tbody tr th:only-of-type {\n",
       "        vertical-align: middle;\n",
       "    }\n",
       "\n",
       "    .dataframe tbody tr th {\n",
       "        vertical-align: top;\n",
       "    }\n",
       "\n",
       "    .dataframe thead th {\n",
       "        text-align: right;\n",
       "    }\n",
       "</style>\n",
       "<table border=\"1\" class=\"dataframe\">\n",
       "  <thead>\n",
       "    <tr style=\"text-align: right;\">\n",
       "      <th></th>\n",
       "      <th>count</th>\n",
       "      <th>mean</th>\n",
       "      <th>std</th>\n",
       "      <th>min</th>\n",
       "      <th>25%</th>\n",
       "      <th>50%</th>\n",
       "      <th>75%</th>\n",
       "      <th>max</th>\n",
       "    </tr>\n",
       "  </thead>\n",
       "  <tbody>\n",
       "    <tr>\n",
       "      <th>Unnamed: 0</th>\n",
       "      <td>320000.0</td>\n",
       "      <td>159999.500000</td>\n",
       "      <td>92376.187408</td>\n",
       "      <td>0.0</td>\n",
       "      <td>79999.75</td>\n",
       "      <td>159999.5</td>\n",
       "      <td>239999.25</td>\n",
       "      <td>319999.0</td>\n",
       "    </tr>\n",
       "    <tr>\n",
       "      <th>id</th>\n",
       "      <td>320000.0</td>\n",
       "      <td>799787.817781</td>\n",
       "      <td>461531.122515</td>\n",
       "      <td>1.0</td>\n",
       "      <td>400067.25</td>\n",
       "      <td>799193.0</td>\n",
       "      <td>1199457.25</td>\n",
       "      <td>1599994.0</td>\n",
       "    </tr>\n",
       "    <tr>\n",
       "      <th>day_number</th>\n",
       "      <td>320000.0</td>\n",
       "      <td>14.812184</td>\n",
       "      <td>9.796475</td>\n",
       "      <td>1.0</td>\n",
       "      <td>6.00</td>\n",
       "      <td>16.0</td>\n",
       "      <td>21.00</td>\n",
       "      <td>31.0</td>\n",
       "    </tr>\n",
       "    <tr>\n",
       "      <th>year</th>\n",
       "      <td>320000.0</td>\n",
       "      <td>2009.000000</td>\n",
       "      <td>0.000000</td>\n",
       "      <td>2009.0</td>\n",
       "      <td>2009.00</td>\n",
       "      <td>2009.0</td>\n",
       "      <td>2009.00</td>\n",
       "      <td>2009.0</td>\n",
       "    </tr>\n",
       "    <tr>\n",
       "      <th>hours</th>\n",
       "      <td>320000.0</td>\n",
       "      <td>10.949309</td>\n",
       "      <td>7.219626</td>\n",
       "      <td>0.0</td>\n",
       "      <td>5.00</td>\n",
       "      <td>10.0</td>\n",
       "      <td>18.00</td>\n",
       "      <td>23.0</td>\n",
       "    </tr>\n",
       "    <tr>\n",
       "      <th>minutes</th>\n",
       "      <td>320000.0</td>\n",
       "      <td>29.603288</td>\n",
       "      <td>17.348997</td>\n",
       "      <td>0.0</td>\n",
       "      <td>15.00</td>\n",
       "      <td>30.0</td>\n",
       "      <td>45.00</td>\n",
       "      <td>59.0</td>\n",
       "    </tr>\n",
       "    <tr>\n",
       "      <th>seconds</th>\n",
       "      <td>320000.0</td>\n",
       "      <td>29.299563</td>\n",
       "      <td>17.207265</td>\n",
       "      <td>0.0</td>\n",
       "      <td>14.00</td>\n",
       "      <td>29.0</td>\n",
       "      <td>44.00</td>\n",
       "      <td>59.0</td>\n",
       "    </tr>\n",
       "  </tbody>\n",
       "</table>\n",
       "</div>"
      ],
      "text/plain": [
       "               count           mean            std     min        25%  \\\n",
       "Unnamed: 0  320000.0  159999.500000   92376.187408     0.0   79999.75   \n",
       "id          320000.0  799787.817781  461531.122515     1.0  400067.25   \n",
       "day_number  320000.0      14.812184       9.796475     1.0       6.00   \n",
       "year        320000.0    2009.000000       0.000000  2009.0    2009.00   \n",
       "hours       320000.0      10.949309       7.219626     0.0       5.00   \n",
       "minutes     320000.0      29.603288      17.348997     0.0      15.00   \n",
       "seconds     320000.0      29.299563      17.207265     0.0      14.00   \n",
       "\n",
       "                 50%         75%        max  \n",
       "Unnamed: 0  159999.5   239999.25   319999.0  \n",
       "id          799193.0  1199457.25  1599994.0  \n",
       "day_number      16.0       21.00       31.0  \n",
       "year          2009.0     2009.00     2009.0  \n",
       "hours           10.0       18.00       23.0  \n",
       "minutes         30.0       45.00       59.0  \n",
       "seconds         29.0       44.00       59.0  "
      ]
     },
     "metadata": {},
     "output_type": "display_data"
    }
   ],
   "source": [
    "print('Train Describe: ')\n",
    "display(train.describe().T)\n",
    "print('================================================')\n",
    "print('Test Describe: ')\n",
    "display(test.describe().T)"
   ]
  },
  {
   "cell_type": "code",
   "execution_count": 7,
   "id": "1f4e8bc7-b4ad-465e-8618-b2e6f9a9b27e",
   "metadata": {},
   "outputs": [
    {
     "data": {
      "text/plain": [
       "1    640161\n",
       "0    639838\n",
       "Name: target, dtype: int64"
      ]
     },
     "execution_count": 7,
     "metadata": {},
     "output_type": "execute_result"
    }
   ],
   "source": [
    "train['target'].value_counts()"
   ]
  },
  {
   "cell_type": "code",
   "execution_count": 8,
   "id": "d740d897-3b9f-4d07-9d85-976cd904fe64",
   "metadata": {},
   "outputs": [
    {
     "data": {
      "text/plain": [
       "Text(0, 0.5, 'frequance')"
      ]
     },
     "execution_count": 8,
     "metadata": {},
     "output_type": "execute_result"
    },
    {
     "data": {
      "image/png": "[encoded data removed]",
      "text/plain": [
       "<Figure size 432x288 with 1 Axes>"
      ]
     },
     "metadata": {
      "needs_background": "light"
     },
     "output_type": "display_data"
    }
   ],
   "source": [
    "sns.barplot(data=train, x=train.target.value_counts().index, y=train.target.value_counts().values)\n",
    "plt.title('Positive and Negative frequance')\n",
    "plt.xlabel('0 is Negative & 1 is Positive')\n",
    "plt.ylabel('frequance')"
   ]
  },
  {
   "cell_type": "code",
   "execution_count": 9,
   "id": "12c354db-dc92-4939-a6f4-439008dcacd9",
   "metadata": {},
   "outputs": [
    {
     "data": {
      "text/plain": [
       "([<matplotlib.axis.XTick at 0x7f2679e7cfd0>,\n",
       "  <matplotlib.axis.XTick at 0x7f2679e7cfa0>,\n",
       "  <matplotlib.axis.XTick at 0x7f2679e7cdf0>,\n",
       "  <matplotlib.axis.XTick at 0x7f2679de0580>,\n",
       "  <matplotlib.axis.XTick at 0x7f2679de0cd0>,\n",
       "  <matplotlib.axis.XTick at 0x7f2679dea460>,\n",
       "  <matplotlib.axis.XTick at 0x7f2679deabb0>],\n",
       " [Text(0, 0, 'Fri'),\n",
       "  Text(1, 0, 'Mon'),\n",
       "  Text(2, 0, 'Sat'),\n",
       "  Text(3, 0, 'Sun'),\n",
       "  Text(4, 0, 'Thu'),\n",
       "  Text(5, 0, 'Tue'),\n",
       "  Text(6, 0, 'Wed')])"
      ]
     },
     "execution_count": 9,
     "metadata": {},
     "output_type": "execute_result"
    },
    {
     "data": {
      "image/png": "[encoded data removed]",
      "text/plain": [
       "<Figure size 720x504 with 1 Axes>"
      ]
     },
     "metadata": {
      "needs_background": "light"
     },
     "output_type": "display_data"
    }
   ],
   "source": [
    "fig, ax = plt.subplots(figsize=(10,7))\n",
    "temp = train[train['target']==0][['target', 'day_name']].groupby('day_name').count()\n",
    "x_indeks=np.arange(len(temp.index))\n",
    "x=0.15\n",
    "plt.bar(x_indeks-x, temp.target, width=x+0.12, label='Negative')\n",
    "temp = train[train['target']==1][['target', 'day_name']].groupby('day_name').count()\n",
    "x_indeks=np.arange(len(temp.index))\n",
    "plt.bar(x_indeks+x, temp.target, width=x+0.12, label='Positive')\n",
    "plt.legend()\n",
    "plt.title(\"Target per Day\")\n",
    "plt.xlabel(\"Days\")\n",
    "plt.ylabel(\"Frequance\")\n",
    "plt.xticks(ticks=x_indeks, labels=temp.index)"
   ]
  },
  {
   "cell_type": "code",
   "execution_count": 10,
   "id": "08441e9a-76ec-48e7-9cb0-123a3b36808b",
   "metadata": {},
   "outputs": [
    {
     "data": {
      "text/plain": [
       "Text(0, 0.5, 'Frequance')"
      ]
     },
     "execution_count": 10,
     "metadata": {},
     "output_type": "execute_result"
    },
    {
     "data": {
      "image/png": "[encoded data removed]",
      "text/plain": [
       "<Figure size 432x288 with 1 Axes>"
      ]
     },
     "metadata": {
      "needs_background": "light"
     },
     "output_type": "display_data"
    }
   ],
   "source": [
    "temp = train[['target', 'month_name']].groupby('month_name').count()\n",
    "sns.barplot(data=temp, x=temp.index, y=temp.target)\n",
    "plt.title(\"Target per month\")\n",
    "plt.xlabel(\"months\")\n",
    "plt.ylabel(\"Frequance\")"
   ]
  },
  {
   "cell_type": "code",
   "execution_count": 11,
   "id": "33878014-fdbb-4b0a-9689-5503990e14a2",
   "metadata": {},
   "outputs": [
    {
     "data": {
      "text/plain": [
       "([<matplotlib.axis.XTick at 0x7f2679d15a30>,\n",
       "  <matplotlib.axis.XTick at 0x7f2679d15a00>,\n",
       "  <matplotlib.axis.XTick at 0x7f2679d158b0>],\n",
       " [Text(0, 0, 'Apr'), Text(1, 0, 'Jun'), Text(2, 0, 'May')])"
      ]
     },
     "execution_count": 11,
     "metadata": {},
     "output_type": "execute_result"
    },
    {
     "data": {
      "image/png": "[encoded data removed]",
      "text/plain": [
       "<Figure size 720x504 with 1 Axes>"
      ]
     },
     "metadata": {
      "needs_background": "light"
     },
     "output_type": "display_data"
    }
   ],
   "source": [
    "fig, ax = plt.subplots(figsize=(10,7))\n",
    "temp = train[train['target']==0][['target', 'month_name']].groupby('month_name').count()\n",
    "x_indeks=np.arange(len(temp.index))\n",
    "x=0.15\n",
    "plt.bar(x_indeks-x, temp.target, width=x+0.12, label='Target = 0')\n",
    "temp = train[train['target']==1][['target', 'month_name']].groupby('month_name').count()\n",
    "x_indeks=np.arange(len(temp.index))\n",
    "plt.bar(x_indeks+x, temp.target, width=x+0.12, label='Target = 1')\n",
    "plt.legend()\n",
    "plt.title(\"Target per months\")\n",
    "plt.xlabel(\"months\")\n",
    "plt.ylabel(\"Frequance\")\n",
    "plt.xticks(ticks=x_indeks, labels=temp.index)"
   ]
  },
  {
   "cell_type": "code",
   "execution_count": 12,
   "id": "8fb681e4-6ef6-42e0-8487-8e90df95142d",
   "metadata": {},
   "outputs": [
    {
     "data": {
      "text/html": [
       "<div>\n",
       "<style scoped>\n",
       "    .dataframe tbody tr th:only-of-type {\n",
       "        vertical-align: middle;\n",
       "    }\n",
       "\n",
       "    .dataframe tbody tr th {\n",
       "        vertical-align: top;\n",
       "    }\n",
       "\n",
       "    .dataframe thead th {\n",
       "        text-align: right;\n",
       "    }\n",
       "</style>\n",
       "<table border=\"1\" class=\"dataframe\">\n",
       "  <thead>\n",
       "    <tr style=\"text-align: right;\">\n",
       "      <th></th>\n",
       "      <th>target</th>\n",
       "    </tr>\n",
       "    <tr>\n",
       "      <th>hours</th>\n",
       "      <th></th>\n",
       "    </tr>\n",
       "  </thead>\n",
       "  <tbody>\n",
       "    <tr>\n",
       "      <th>23</th>\n",
       "      <td>67844</td>\n",
       "    </tr>\n",
       "    <tr>\n",
       "      <th>7</th>\n",
       "      <td>66869</td>\n",
       "    </tr>\n",
       "    <tr>\n",
       "      <th>6</th>\n",
       "      <td>64697</td>\n",
       "    </tr>\n",
       "    <tr>\n",
       "      <th>0</th>\n",
       "      <td>64399</td>\n",
       "    </tr>\n",
       "    <tr>\n",
       "      <th>5</th>\n",
       "      <td>62945</td>\n",
       "    </tr>\n",
       "  </tbody>\n",
       "</table>\n",
       "</div>"
      ],
      "text/plain": [
       "       target\n",
       "hours        \n",
       "23      67844\n",
       "7       66869\n",
       "6       64697\n",
       "0       64399\n",
       "5       62945"
      ]
     },
     "metadata": {},
     "output_type": "display_data"
    },
    {
     "data": {
      "text/plain": [
       "Text(0, 0.5, 'Frequance')"
      ]
     },
     "execution_count": 12,
     "metadata": {},
     "output_type": "execute_result"
    },
    {
     "data": {
      "image/png": "[encoded data removed]",
      "text/plain": [
       "<Figure size 864x432 with 1 Axes>"
      ]
     },
     "metadata": {
      "needs_background": "light"
     },
     "output_type": "display_data"
    }
   ],
   "source": [
    "plt.subplots(figsize=(12,6))\n",
    "temp = train[['target', 'hours']].groupby('hours').count().sort_values(by='target', ascending=False)\n",
    "display(temp.head(5))\n",
    "sns.barplot(data=temp, x=temp.index, y=temp.target)\n",
    "plt.title(\"Target per hours\")\n",
    "plt.xlabel(\"hours\")\n",
    "plt.ylabel(\"Frequance\")"
   ]
  },
  {
   "cell_type": "code",
   "execution_count": 13,
   "id": "8bddb96a-9b5d-4bba-9b5d-3d8f74df1467",
   "metadata": {},
   "outputs": [
    {
     "data": {
      "text/plain": [
       "([<matplotlib.axis.XTick at 0x7f2679ba19d0>,\n",
       "  <matplotlib.axis.XTick at 0x7f2679ba19a0>,\n",
       "  <matplotlib.axis.XTick at 0x7f2679b9cf40>,\n",
       "  <matplotlib.axis.XTick at 0x7f2678c66340>,\n",
       "  <matplotlib.axis.XTick at 0x7f2678c66a90>,\n",
       "  <matplotlib.axis.XTick at 0x7f2678c6d220>,\n",
       "  <matplotlib.axis.XTick at 0x7f2678c6d970>,\n",
       "  <matplotlib.axis.XTick at 0x7f2678c75100>,\n",
       "  <matplotlib.axis.XTick at 0x7f2678c6da60>,\n",
       "  <matplotlib.axis.XTick at 0x7f2678c66ac0>,\n",
       "  <matplotlib.axis.XTick at 0x7f2678c758e0>,\n",
       "  <matplotlib.axis.XTick at 0x7f2678c7e070>,\n",
       "  <matplotlib.axis.XTick at 0x7f2678c7e7c0>,\n",
       "  <matplotlib.axis.XTick at 0x7f2678c7f070>,\n",
       "  <matplotlib.axis.XTick at 0x7f2678c7f6a0>,\n",
       "  <matplotlib.axis.XTick at 0x7f2678c7ea60>,\n",
       "  <matplotlib.axis.XTick at 0x7f2678c662b0>,\n",
       "  <matplotlib.axis.XTick at 0x7f2678c7f310>,\n",
       "  <matplotlib.axis.XTick at 0x7f2678c0c220>,\n",
       "  <matplotlib.axis.XTick at 0x7f2678c0c970>,\n",
       "  <matplotlib.axis.XTick at 0x7f2678c11100>,\n",
       "  <matplotlib.axis.XTick at 0x7f2678c0cd60>,\n",
       "  <matplotlib.axis.XTick at 0x7f2678c7fd30>,\n",
       "  <matplotlib.axis.XTick at 0x7f2678c119a0>],\n",
       " [Text(0, 0, '0'),\n",
       "  Text(1, 0, '1'),\n",
       "  Text(2, 0, '2'),\n",
       "  Text(3, 0, '3'),\n",
       "  Text(4, 0, '4'),\n",
       "  Text(5, 0, '5'),\n",
       "  Text(6, 0, '6'),\n",
       "  Text(7, 0, '7'),\n",
       "  Text(8, 0, '8'),\n",
       "  Text(9, 0, '9'),\n",
       "  Text(10, 0, '10'),\n",
       "  Text(11, 0, '11'),\n",
       "  Text(12, 0, '12'),\n",
       "  Text(13, 0, '13'),\n",
       "  Text(14, 0, '14'),\n",
       "  Text(15, 0, '15'),\n",
       "  Text(16, 0, '16'),\n",
       "  Text(17, 0, '17'),\n",
       "  Text(18, 0, '18'),\n",
       "  Text(19, 0, '19'),\n",
       "  Text(20, 0, '20'),\n",
       "  Text(21, 0, '21'),\n",
       "  Text(22, 0, '22'),\n",
       "  Text(23, 0, '23')])"
      ]
     },
     "execution_count": 13,
     "metadata": {},
     "output_type": "execute_result"
    },
    {
     "data": {
      "image/png": "[encoded data removed]",
      "text/plain": [
       "<Figure size 1008x432 with 1 Axes>"
      ]
     },
     "metadata": {
      "needs_background": "light"
     },
     "output_type": "display_data"
    }
   ],
   "source": [
    "fig, ax = plt.subplots(figsize=(14,6))\n",
    "temp = train[train['target']==0][['target', 'hours']].groupby('hours').count()\n",
    "x_indeks=np.arange(len(temp.index))\n",
    "x=0.15\n",
    "plt.bar(x_indeks-x, temp.target, width=x+0.12, label='Target = 0')\n",
    "temp = train[train['target']==1][['target', 'hours']].groupby('hours').count()\n",
    "x_indeks=np.arange(len(temp.index))\n",
    "plt.bar(x_indeks+x, temp.target, width=x+0.12, label='Target = 1')\n",
    "plt.legend()\n",
    "plt.title(\"Target per hours\")\n",
    "plt.xlabel(\"hours\")\n",
    "plt.ylabel(\"Frequance\")\n",
    "plt.xticks(ticks=x_indeks, labels=temp.index)"
   ]
  },
  {
   "cell_type": "markdown",
   "id": "74fe247e-97b4-4057-9a74-9c6215ee6d3c",
   "metadata": {
    "jp-MarkdownHeadingCollapsed": true,
    "tags": []
   },
   "source": [
    "### Data Preprocessing"
   ]
  },
  {
   "cell_type": "code",
   "execution_count": 14,
   "id": "82543c34-1624-4093-b006-e2e77aef3d2e",
   "metadata": {},
   "outputs": [],
   "source": [
    "# train.date = train.date.astype('string')\n",
    "# train.date = train.date.str.split(' ')\n",
    "# train['day_name'] = [train.date.iloc[x][0] for x in range(train.shape[0])]\n",
    "# train['month_name'] = [train.date.iloc[x][1] for x in range(train.shape[0])]\n",
    "# train['day_number'] = [train.date.iloc[x][2] for x in range(train.shape[0])]\n",
    "# train['time'] = [train.date.iloc[x][3] for x in range(train.shape[0])]\n",
    "# train['season'] = [train.date.iloc[x][4] for x in range(train.shape[0])]\n",
    "# train['year'] = [train.date.iloc[x][5] for x in range(train.shape[0])]\n",
    "# train['time'] = train['time'].astype('string')\n",
    "# train['time'] = train['time'].str.split(':')\n",
    "# train['hours'] = [train['time'].iloc[x][0] for x in range(train.shape[0])]\n",
    "# train['minutes'] = [train['time'].iloc[x][1] for x in range(train.shape[0])]\n",
    "# train['seconds'] = [train['time'].iloc[x][2] for x in range(train.shape[0])]\n",
    "# train.drop(['date', 'time'], axis=1, inplace=True)"
   ]
  },
  {
   "cell_type": "code",
   "execution_count": 15,
   "id": "3f25219f-168b-4762-a40c-a52e3a5eb25e",
   "metadata": {},
   "outputs": [],
   "source": [
    "# test.date = test.date.astype('string')\n",
    "# test.date = test.date.str.split(' ')\n",
    "# test['day_name'] = [test.date.iloc[x][0] for x in range(test.shape[0])]\n",
    "# test['month_name'] = [test.date.iloc[x][1] for x in range(test.shape[0])]\n",
    "# test['day_number'] = [test.date.iloc[x][2] for x in range(test.shape[0])]\n",
    "# test['time'] = [test.date.iloc[x][3] for x in range(test.shape[0])]\n",
    "# test['season'] = [test.date.iloc[x][4] for x in range(test.shape[0])]\n",
    "# test['year'] = [test.date.iloc[x][5] for x in range(test.shape[0])]\n",
    "# test['time'] = test['time'].astype('string')\n",
    "# test['time'] = test['time'].str.split(':')\n",
    "# test['hours'] = [test['time'].iloc[x][0] for x in range(test.shape[0])]\n",
    "# test['minutes'] = [test['time'].iloc[x][1] for x in range(test.shape[0])]\n",
    "# test['seconds'] = [test['time'].iloc[x][2] for x in range(test.shape[0])]\n",
    "# test.drop(['date', 'time'], axis=1, inplace=True)"
   ]
  },
  {
   "cell_type": "code",
   "execution_count": 16,
   "id": "3f71ea96-024a-4c55-aec1-af87208b5b4d",
   "metadata": {},
   "outputs": [],
   "source": [
    "# train = train.to_csv('Data/train.csv')\n",
    "# test = test.to_csv('Data/test.csv')"
   ]
  },
  {
   "cell_type": "code",
   "execution_count": 17,
   "id": "42890247-59fc-4331-b1ee-92eb522983e9",
   "metadata": {},
   "outputs": [],
   "source": [
    "def Cramers_V(data):\n",
    "    X2 = scipy.stats.chi2_contingency(data, correction=False)[0]\n",
    "    n = np.sum(data)\n",
    "    minDim = min(data.shape)-1\n",
    "    V = np.sqrt((X2/n) / minDim)\n",
    "    print('The Result: ',V)"
   ]
  },
  {
   "cell_type": "code",
   "execution_count": 18,
   "id": "3bc44747-fd51-4ca0-bcb4-2ede4eca8339",
   "metadata": {},
   "outputs": [
    {
     "name": "stdout",
     "output_type": "stream",
     "text": [
      "The Result:  0.09753007376260389\n"
     ]
    }
   ],
   "source": [
    "# correlation between hours and target is week\n",
    "temp = pd.crosstab(train.hours, train.target).to_numpy()\n",
    "Cramers_V(temp)"
   ]
  },
  {
   "cell_type": "code",
   "execution_count": 19,
   "id": "ccc43912-202c-4751-a14a-e2a2733246d4",
   "metadata": {},
   "outputs": [
    {
     "name": "stdout",
     "output_type": "stream",
     "text": [
      "The Result:  0.19603719265164976\n"
     ]
    }
   ],
   "source": [
    "# correlation between day_name and target is week\n",
    "temp = pd.crosstab(train.day_name, train.target).to_numpy()\n",
    "Cramers_V(temp)"
   ]
  },
  {
   "cell_type": "code",
   "execution_count": 20,
   "id": "82af991d-0e78-4b14-bb5a-97d13aed3ebb",
   "metadata": {},
   "outputs": [
    {
     "name": "stdout",
     "output_type": "stream",
     "text": [
      "The Result:  0.024152728745171406\n"
     ]
    }
   ],
   "source": [
    "# correlation between minutes and target is week\n",
    "temp = pd.crosstab(train.minutes, train.target).to_numpy()\n",
    "Cramers_V(temp)"
   ]
  },
  {
   "cell_type": "code",
   "execution_count": 21,
   "id": "aa67478c-704d-4b5b-8113-5d2d29d19ee5",
   "metadata": {},
   "outputs": [],
   "source": [
    "train.drop(['Unnamed: 0','id'], axis=1, inplace=True)\n",
    "test.drop(['Unnamed: 0','id'], axis=1, inplace=True)"
   ]
  },
  {
   "cell_type": "code",
   "execution_count": 22,
   "id": "426b2484-a165-4682-942f-ff90d06b8012",
   "metadata": {},
   "outputs": [
    {
     "data": {
      "text/plain": [
       "123"
      ]
     },
     "execution_count": 22,
     "metadata": {},
     "output_type": "execute_result"
    }
   ],
   "source": [
    "train.duplicated().sum()"
   ]
  },
  {
   "cell_type": "code",
   "execution_count": 23,
   "id": "65f672b0-34c5-4a2b-92bb-f4e26869f5c7",
   "metadata": {},
   "outputs": [],
   "source": [
    "# train.drop_duplicates(inplace=True)"
   ]
  },
  {
   "cell_type": "code",
   "execution_count": 24,
   "id": "c94557b4-5b8a-4364-b117-24bd49c6e15c",
   "metadata": {},
   "outputs": [],
   "source": [
    "train.drop(['flag', 'user', 'month_name', 'day_number', 'season', 'year', 'minutes', 'seconds', 'day_name', 'hours'], axis=1, inplace=True)\n",
    "test.drop(['flag', 'user', 'month_name', 'day_number', 'season', 'year', 'minutes', 'seconds', 'day_name', 'hours'], axis=1, inplace=True)"
   ]
  },
  {
   "cell_type": "code",
   "execution_count": 25,
   "id": "b5cef03b-c75d-4850-b81f-55eacff13f95",
   "metadata": {},
   "outputs": [
    {
     "name": "stdout",
     "output_type": "stream",
     "text": [
      "The shape of Train:  (1279999, 2)\n",
      "The shape of Test:  (320000, 1)\n"
     ]
    }
   ],
   "source": [
    "print('The shape of Train: ', train.shape)\n",
    "print('The shape of Test: ', test.shape)"
   ]
  },
  {
   "cell_type": "markdown",
   "id": "c8d8a475-82f8-4798-9e43-a4745bc7e51e",
   "metadata": {
    "jp-MarkdownHeadingCollapsed": true,
    "tags": []
   },
   "source": [
    "### Text Preprocessing"
   ]
  },
  {
   "cell_type": "code",
   "execution_count": 26,
   "id": "8e6db1ee-b132-48ae-af82-95d6b0bbf4f4",
   "metadata": {},
   "outputs": [],
   "source": [
    "train['text'] = train['text'].astype('string')\n",
    "test['text'] = test['text'].astype('string')"
   ]
  },
  {
   "cell_type": "code",
   "execution_count": 27,
   "id": "4725f631-ccb6-41c6-89d4-f75b9aaf06a4",
   "metadata": {},
   "outputs": [],
   "source": [
    "def decontraction(text):\n",
    "    text = re.sub(r\"won\\'t\", \" will not\", text)\n",
    "    text = re.sub(r\"won\\'t've\", \" will not have\", text)\n",
    "    text = re.sub(r\"can\\'t\", \" can not\", text)\n",
    "    text = re.sub(r\"don\\'t\", \" do not\", text)\n",
    "    text = re.sub(r\"can\\'t've\", \" can not have\", text)\n",
    "    text = re.sub(r\"ma\\'am\", \" madam\", text)\n",
    "    text = re.sub(r\"let\\'s\", \" let us\", text)\n",
    "    text = re.sub(r\"ain\\'t\", \" am not\", text)\n",
    "    text = re.sub(r\"shan\\'t\", \" shall not\", text)\n",
    "    text = re.sub(r\"sha\\n't\", \" shall not\", text)\n",
    "    text = re.sub(r\"o\\'clock\", \" of the clock\", text)\n",
    "    text = re.sub(r\"y\\'all\", \" you all\", text)\n",
    "    text = re.sub(r\"n\\'t\", \" not\", text)\n",
    "    text = re.sub(r\"n\\'t've\", \" not have\", text)\n",
    "    text = re.sub(r\"\\'re\", \" are\", text)\n",
    "    text = re.sub(r\"\\'s\", \" is\", text)\n",
    "    text = re.sub(r\"\\'d\", \" would\", text)\n",
    "    text = re.sub(r\"\\'d've\", \" would have\", text)\n",
    "    text = re.sub(r\"\\'ll\", \" will\", text)\n",
    "    text = re.sub(r\"\\'ll've\", \" will have\", text)\n",
    "    text = re.sub(r\"\\'t\", \" not\", text)\n",
    "    text = re.sub(r\"\\'ve\", \" have\", text)\n",
    "    text = re.sub(r\"\\'m\", \" am\", text)\n",
    "    text = re.sub(r\"\\'re\", \" are\", text)\n",
    "    return text \n",
    "\n",
    "def remove_URL_Hashing_targets(sample):\n",
    "    tweet = re.sub('((www\\.[^\\s]+)|(https?://[^\\s]+))','URL',sample)\n",
    "    tweet = re.sub('@[^\\s]+','AT_USER', tweet)\n",
    "    tweet = re.sub('[\\s]+', ' ', tweet)\n",
    "    tweet = re.sub(r'#([^\\s]+)', r'\\1', tweet)\n",
    "    return tweet\n",
    "\n",
    "def remove_non_ascii(words):\n",
    "    new_words = []\n",
    "    for word in words:\n",
    "        new_word = unicodedata.normalize('NFKD', word).encode('ascii', 'ignore').decode('utf-8', 'ignore')\n",
    "        new_words.append(new_word)\n",
    "    return new_words\n",
    "\n",
    "def to_lowercase(words):\n",
    "    new_words = []\n",
    "    for word in words:\n",
    "        new_word = word.lower()\n",
    "        new_words.append(new_word)\n",
    "    return new_words\n",
    "\n",
    "def remove_punctuation(words):\n",
    "    new_words = []\n",
    "    for word in words:\n",
    "        new_word = re.sub(r'[^\\w\\s]', '', word)\n",
    "        if new_word != '':\n",
    "            new_words.append(new_word)\n",
    "    return new_words\n",
    "\n",
    "def remove_numbers(words):\n",
    "    new_words = []\n",
    "    for word in words:\n",
    "        if word.isalpha():\n",
    "            new_words.append(word)\n",
    "        else:\n",
    "            myword = ''\n",
    "            for char in word:\n",
    "                if char.isdigit():\n",
    "                    pass\n",
    "                else:\n",
    "                    myword+=char\n",
    "            new_words.append(myword)\n",
    "            \n",
    "    return new_words\n",
    "\n",
    "def remove_stopwords(words):\n",
    "    new_words = []\n",
    "    for word in words:\n",
    "        if word not in stopwords.words('english'):\n",
    "            new_words.append(word)\n",
    "    return new_words\n",
    "\n",
    "def stem_words(words):\n",
    "    stemmer = LancasterStemmer()\n",
    "    stems = []\n",
    "    for word in words:\n",
    "        stem = stemmer.stem(word)\n",
    "        stems.append(stem)\n",
    "    return stems\n",
    "\n",
    "def lemmatize_verbs(words):\n",
    "    lemmatizer = WordNetLemmatizer()\n",
    "    lemmas = []\n",
    "    for word in words:\n",
    "        lemma = lemmatizer.lemmatize(word, pos='v')\n",
    "        lemmas.append(lemma)\n",
    "    return lemmas\n",
    "\n",
    "def normalize(words):\n",
    "    words = remove_non_ascii(words)\n",
    "    words = to_lowercase(words)\n",
    "    words = remove_punctuation(words)\n",
    "    # words = remove_numbers(words)\n",
    "    # words = remove_stopwords(words)\n",
    "    return words\n",
    "\n",
    "def preprocess(sample):\n",
    "    # sample = remove_URL_Hashing_targets(sample)\n",
    "    # sample = replace_contractions(sample)\n",
    "    words = nltk.word_tokenize(sample)\n",
    "    return normalize(words)\n",
    "\n",
    "# def preprocessing1(text):\n",
    "#     return re.sub('@([\\w]+)',r'<\\1>',text)\n",
    "def preprocessing2(text):\n",
    "    return re.sub('\\d+',r'<digit>',text)"
   ]
  },
  {
   "cell_type": "code",
   "execution_count": 28,
   "id": "d458d701-8f2d-4546-b83d-f4fd98a61505",
   "metadata": {},
   "outputs": [],
   "source": [
    "train.text = train.text.apply(lambda x: decontraction(x))\n",
    "test.text = test.text.apply(lambda x: decontraction(x))"
   ]
  },
  {
   "cell_type": "code",
   "execution_count": 29,
   "id": "63d66422-60eb-4b73-acc8-0b3881b4f1ff",
   "metadata": {},
   "outputs": [],
   "source": [
    "train.text = train.text.apply(lambda x: remove_URL_Hashing_targets(x))\n",
    "test.text = test.text.apply(lambda x: remove_URL_Hashing_targets(x))"
   ]
  },
  {
   "cell_type": "code",
   "execution_count": 30,
   "id": "f2dc5b1a-febd-40fe-9635-e34a2d603386",
   "metadata": {},
   "outputs": [],
   "source": [
    "train.text = train.text.apply(lambda x: preprocessing2(x))\n",
    "test.text = test.text.apply(lambda x: preprocessing2(x))"
   ]
  },
  {
   "cell_type": "code",
   "execution_count": 31,
   "id": "7b18c373-f681-4b49-b3cf-c17b17a8bbce",
   "metadata": {},
   "outputs": [],
   "source": [
    "# train.text = train.text.apply(lambda x: replace_contractions(x))\n",
    "# test.text = test.text.apply(lambda x: replace_contractions(x))"
   ]
  },
  {
   "cell_type": "code",
   "execution_count": 32,
   "id": "6e531cec-e8f8-4c40-b045-2f02e0ec7a22",
   "metadata": {},
   "outputs": [],
   "source": [
    "# train.text = train.text.apply(lambda x: np.array(x.split(' ')))\n",
    "# test.text = test.text.apply(lambda x: np.array(x.split(' ')))"
   ]
  },
  {
   "cell_type": "code",
   "execution_count": 33,
   "id": "9cddc419-4c53-4fed-bd37-ee5b38a1652f",
   "metadata": {},
   "outputs": [],
   "source": [
    "train.text = train.text.apply(lambda x: preprocess(x))"
   ]
  },
  {
   "cell_type": "code",
   "execution_count": 34,
   "id": "0e4b244f-5cfd-4eee-a853-38df6931cfd1",
   "metadata": {},
   "outputs": [],
   "source": [
    "test.text = test.text.apply(lambda x: preprocess(x))"
   ]
  },
  {
   "cell_type": "code",
   "execution_count": 35,
   "id": "a8a6e1a3-c5fb-4a0e-a719-81777995e6ed",
   "metadata": {},
   "outputs": [],
   "source": [
    "# train.text = train.text.apply(lambda x: preprocessing1(x)).apply(lambda x: preprocessing2(x))\n",
    "# test.text = test.text.apply(lambda x: preprocessing1(x)).apply(lambda x: preprocessing2(x))"
   ]
  },
  {
   "cell_type": "code",
   "execution_count": 36,
   "id": "4e5458a5-17d2-4fb9-87cc-fa788e6bb869",
   "metadata": {},
   "outputs": [
    {
     "data": {
      "text/plain": [
       "['i',\n",
       " 'have',\n",
       " 'a',\n",
       " 'horse',\n",
       " 'compitition',\n",
       " 'on',\n",
       " 'sunday',\n",
       " 'it',\n",
       " 'is',\n",
       " 'suppopsed',\n",
       " 'to',\n",
       " 'rain']"
      ]
     },
     "execution_count": 36,
     "metadata": {},
     "output_type": "execute_result"
    }
   ],
   "source": [
    "train.text.iloc[1234]"
   ]
  },
  {
   "cell_type": "code",
   "execution_count": 37,
   "id": "0bd5fa51-a091-4807-9f78-3a8615a849b6",
   "metadata": {},
   "outputs": [
    {
     "data": {
      "text/plain": [
       "['at_user', 'got', 'ta', 'love', 'greenday', 'thanks']"
      ]
     },
     "execution_count": 37,
     "metadata": {},
     "output_type": "execute_result"
    }
   ],
   "source": [
    "test.text.iloc[1234]"
   ]
  },
  {
   "cell_type": "code",
   "execution_count": 38,
   "id": "fbabee6c-3bd6-4391-af78-4ed97b07807e",
   "metadata": {},
   "outputs": [],
   "source": [
    "train.to_csv('df_train.csv')\n",
    "test.to_csv('df_test.csv')"
   ]
  },
  {
   "cell_type": "markdown",
   "id": "dfb843ba-288c-46ab-9a97-95382b08f2a4",
   "metadata": {
    "jp-MarkdownHeadingCollapsed": true,
    "tags": []
   },
   "source": [
    "### Text Feature Extraction"
   ]
  },
  {
   "cell_type": "code",
   "execution_count": 39,
   "id": "e09d6df7-6660-4787-a677-d83c6cf6b606",
   "metadata": {},
   "outputs": [],
   "source": [
    "def lstTostr(lst):\n",
    "    string = ' '.join([str(item) for item in lst])\n",
    "    return string"
   ]
  },
  {
   "cell_type": "code",
   "execution_count": 40,
   "id": "719c0e7b-7805-4f9a-b86b-063f557d987e",
   "metadata": {},
   "outputs": [],
   "source": [
    "df_train = pd.read_csv('df_train.csv')\n",
    "df_test = pd.read_csv('df_test.csv')"
   ]
  },
  {
   "cell_type": "code",
   "execution_count": 41,
   "id": "fdc2949a-8454-4267-bc31-48a75a9c0999",
   "metadata": {},
   "outputs": [],
   "source": [
    "# df_train.text = df_train.text.apply(lambda x: eval(x))\n",
    "# df_test.text = df_test.text.apply(lambda x: eval(x))"
   ]
  },
  {
   "cell_type": "code",
   "execution_count": 42,
   "id": "ddefa516-88da-44eb-b57d-ff2bd1aeed67",
   "metadata": {},
   "outputs": [],
   "source": [
    "# df_train.text = df_train.text.apply(lambda x: lemmatize_verbs(x))\n",
    "# df_test.text = df_test.text.apply(lambda x: lemmatize_verbs(x))"
   ]
  },
  {
   "cell_type": "code",
   "execution_count": 43,
   "id": "5dbb8317-4042-44e2-8d13-c329628a955f",
   "metadata": {},
   "outputs": [],
   "source": [
    "# df_train.text = df_train.text.apply(lambda x: lstTostr(x))\n",
    "# df_test.text = df_test.text.apply(lambda x: lstTostr(x))"
   ]
  },
  {
   "cell_type": "code",
   "execution_count": 44,
   "id": "ac1e4e7a-b861-48fc-b479-bc33d1d2f3cf",
   "metadata": {},
   "outputs": [
    {
     "data": {
      "text/plain": [
       "\"['at_user', 'of', 'course', 'u', 'can', 'i', 'have', 'no', 'idea', 'well', 'to', 'tell', 'her', 'that', 'she', 'is', 'bitch', 'haha', 'is', 'that', 'problem', 'if', 'it', 'is', 'sorry', 'hahah']\""
      ]
     },
     "execution_count": 44,
     "metadata": {},
     "output_type": "execute_result"
    }
   ],
   "source": [
    "df_train.text.iloc[0]"
   ]
  },
  {
   "cell_type": "code",
   "execution_count": 45,
   "id": "57445570-015d-4791-88f9-6c7fadb1bea9",
   "metadata": {},
   "outputs": [
    {
     "name": "stdout",
     "output_type": "stream",
     "text": [
      "Data size is : (1599999, 1)\n"
     ]
    }
   ],
   "source": [
    "ntrain = df_train.shape[0]\n",
    "ntest = df_test.shape[0]\n",
    "Target = df_train['target']\n",
    "Data = pd.concat((df_train, df_test)).reset_index(drop=True)\n",
    "Data.drop(['target', 'Unnamed: 0'], axis=1, inplace=True)\n",
    "print(\"Data size is : {}\".format(Data.shape))"
   ]
  },
  {
   "cell_type": "code",
   "execution_count": 46,
   "id": "c9c0a39b-8d33-4afd-ac44-6d2e687017cf",
   "metadata": {},
   "outputs": [],
   "source": [
    "def feature_extraction(data, method = \"tfidf\"):\n",
    "    #arguments: data = all the tweets in the form of array, method = type of feature extracter\n",
    "    #methods of feature extractions: \"tfidf\" and \"doc2vec\"\n",
    "    if method == \"tfidf\":\n",
    "        tfv=TfidfVectorizer(sublinear_tf=True, stop_words = \"english\") # we need to give proper stopwords list for better performance\n",
    "        features=tfv.fit_transform(data)\n",
    "    elif method == \"Count\":\n",
    "        cv = CountVectorizer(strip_accents='unicode',lowercase=True)\n",
    "        features=cv.fit_transform(data)\n",
    "    else:\n",
    "        return \"Incorrect inputs\"\n",
    "    return features"
   ]
  },
  {
   "cell_type": "code",
   "execution_count": 47,
   "id": "df453342-a1e6-405d-82f4-e7909789660d",
   "metadata": {},
   "outputs": [],
   "source": [
    "Data = np.array(Data.text)"
   ]
  },
  {
   "cell_type": "code",
   "execution_count": 48,
   "id": "f3ae8904-3f11-4af6-ac95-90cb76d85149",
   "metadata": {},
   "outputs": [],
   "source": [
    "# kmeansmodel = KMeans(n_clusters= 2, init='k-means++', random_state=0)\n",
    "# y_kmeans= kmeansmodel.fit_predict(Data)\n",
    "# plt.scatter(Data[y_kmeans == 0, 0], Data[y_kmeans == 0, 1], s = 100, c = 'red', label = 'Cluster 1')\n",
    "# plt.scatter(Data[y_kmeans == 1, 0], Data[y_kmeans == 1, 1], s = 100, c = 'blue', label = 'Cluster 2')\n",
    "# plt.title('Clusters of status')\n",
    "# plt.xlabel('postivie and negative')\n",
    "# plt.ylabel('Spending Score (1-100)')\n",
    "# plt.legend()"
   ]
  },
  {
   "cell_type": "code",
   "execution_count": 49,
   "id": "46f0d29f-22ec-4279-89b1-23d48deacf50",
   "metadata": {},
   "outputs": [
    {
     "data": {
      "text/plain": [
       "<1599999x306527 sparse matrix of type '<class 'numpy.int64'>'\n",
       "\twith 19230565 stored elements in Compressed Sparse Row format>"
      ]
     },
     "execution_count": 49,
     "metadata": {},
     "output_type": "execute_result"
    }
   ],
   "source": [
    "features =feature_extraction(Data, method = \"Count\")\n",
    "features"
   ]
  },
  {
   "cell_type": "code",
   "execution_count": 50,
   "id": "c2d4fbcd-d564-45eb-9a23-be69f4cea368",
   "metadata": {},
   "outputs": [
    {
     "name": "stdout",
     "output_type": "stream",
     "text": [
      "Train Shape:  (1279999, 306527)\n",
      "Test Shape:  (320000, 306527)\n"
     ]
    }
   ],
   "source": [
    "df_train = features[:ntrain]\n",
    "df_test = features[ntrain:]\n",
    "print('Train Shape: ', df_train.shape)\n",
    "print('Test Shape: ', df_test.shape)"
   ]
  },
  {
   "cell_type": "code",
   "execution_count": 51,
   "id": "bbc07acf-a3d5-4b00-8daf-9b955c218260",
   "metadata": {},
   "outputs": [
    {
     "name": "stdout",
     "output_type": "stream",
     "text": [
      "The shape of X_train (959999, 306527)\n",
      "The shape of y_train (959999,)\n",
      "The shape of X_val (320000, 306527)\n",
      "The shape of y_val (320000,)\n"
     ]
    }
   ],
   "source": [
    "X_train, X_val, y_train, y_val = train_test_split(df_train, Target.values, test_size = 0.25, random_state=42)\n",
    "print('The shape of X_train', X_train.shape)\n",
    "print('The shape of y_train', y_train.shape)\n",
    "print('The shape of X_val', X_val.shape)\n",
    "print('The shape of y_val', y_val.shape)"
   ]
  },
  {
   "cell_type": "markdown",
   "id": "f3e382a9-38d5-4797-b853-6111d4003334",
   "metadata": {
    "jp-MarkdownHeadingCollapsed": true,
    "tags": []
   },
   "source": [
    "### Modeling"
   ]
  },
  {
   "cell_type": "code",
   "execution_count": 52,
   "id": "dcabc2c5-92dd-4153-81e4-07b871994063",
   "metadata": {},
   "outputs": [],
   "source": [
    "def classi_repo(valid_target, pred, model_name='Classifier'):\n",
    "    print(model_name+':')\n",
    "    print('F1-Score: ', f1_score(valid_target, pred))\n",
    "    print('ROC_AUC_score: ', roc_auc_score(valid_target, pred))\n",
    "    print('accuracy_score: ', accuracy_score(valid_target, pred), '\\n\\n')\n",
    "    fig, (ax1, ax2) = plt.subplots(1,2, figsize=(15,5))\n",
    "    clf_report = classification_report(valid_target,\n",
    "                                   pred,\n",
    "                                   output_dict=True)\n",
    "    g = sns.heatmap(pd.DataFrame(clf_report).iloc[:-1, :].T, annot=True, cmap='Blues', ax=ax1)\n",
    "    g.set_title('Classification Report\\n\\n');\n",
    "    #=========================================\n",
    "    cf_matrix = confusion_matrix(valid_target, pred)\n",
    "    g1 = sns.heatmap(cf_matrix, annot=True, cmap='Blues',ax=ax2)\n",
    "    g1.set_title('Confusion Matrix\\n\\n');\n",
    "    g1.set_xlabel('\\nPredicted Values')\n",
    "    g1.set_ylabel('Actual Values ');\n",
    "    g1.xaxis.set_ticklabels(['False','True'])\n",
    "    g1.yaxis.set_ticklabels(['False','True'])\n",
    "    \n",
    "    plt.show()\n",
    "def auc_roc_plot(valid_target, pred, model_name='Classifier'):\n",
    "    bc = BinaryClassification(valid_target, pred, labels=[\"Class 1\", \"Class 2\"])\n",
    "    plt.figure(figsize=(15,10))\n",
    "    plt.subplot2grid(shape=(2,6), loc=(0,0), colspan=2)\n",
    "    bc.plot_roc_curve()\n",
    "    plt.show()"
   ]
  },
  {
   "cell_type": "code",
   "execution_count": 53,
   "id": "9b737d57-4d9f-4afa-bb6a-da995979bb5a",
   "metadata": {},
   "outputs": [],
   "source": [
    "def train_classifier(X_train, y_train, X_val, y_val, classifier = \"logistic_regression\"):\n",
    "    if classifier == \"logistic_regression\":\n",
    "        model = LogisticRegression(C=1., n_jobs=-1)\n",
    "        \n",
    "    elif classifier == \"naive_bayes\":\n",
    "        model = MultinomialNB()        \n",
    "        \n",
    "    elif classifier == 'lgbm':\n",
    "        X_train = X_train.astype('float32')\n",
    "        y_train = y_train.astype('float32')\n",
    "        X_val = X_val.astype('float32')\n",
    "        y_val = y_val.astype('float32')\n",
    "        model = LGBMClassifier(n_jobs=-1)\n",
    "        \n",
    "    elif classifier == 'xgboost':\n",
    "        X_train = X_train.astype('float32')\n",
    "        y_train = y_train.astype('float32')\n",
    "        X_val = X_val.astype('float32')\n",
    "        y_val = y_val.astype('float32')\n",
    "        model = XGBClassifier(n_jobs=-1)\n",
    "        \n",
    "    else:\n",
    "        print(\"Incorrect selection of classifier\")\n",
    "    #fit model to data\n",
    "    model.fit(X_train, y_train)\n",
    "    pred = model.predict(X_val)\n",
    "    probability_to_be_positive = model.predict_proba(X_val)[:,1]\n",
    "    #chcek AUC(Area Undet the Roc Curve) to see how well the score discriminates between negative and positive\n",
    "    print (\"auc probability:\" , roc_auc_score(y_val, probability_to_be_positive))\n",
    "    #print top 10 scores as a sanity check\n",
    "    print (\"top 10 scores: \", probability_to_be_positive[:10])\n",
    "    display(classi_repo(y_val, pred, classifier))\n",
    "    display(auc_roc_plot(y_val, pred, classifier))"
   ]
  },
  {
   "cell_type": "code",
   "execution_count": 54,
   "id": "cfa91259-b671-4106-bfc8-91e7916bfdea",
   "metadata": {},
   "outputs": [
    {
     "name": "stderr",
     "output_type": "stream",
     "text": [
      "/home/huzaifa/anaconda3/envs/tf2/lib/python3.9/site-packages/sklearn/linear_model/_logistic.py:814: ConvergenceWarning: lbfgs failed to converge (status=1):\n",
      "STOP: TOTAL NO. of ITERATIONS REACHED LIMIT.\n",
      "\n",
      "Increase the number of iterations (max_iter) or scale the data as shown in:\n",
      "    https://scikit-learn.org/stable/modules/preprocessing.html\n",
      "Please also refer to the documentation for alternative solver options:\n",
      "    https://scikit-learn.org/stable/modules/linear_model.html#logistic-regression\n",
      "  n_iter_i = _check_optimize_result(\n"
     ]
    },
    {
     "name": "stdout",
     "output_type": "stream",
     "text": [
      "auc probability: 0.8691750366828481\n",
      "top 10 scores:  [3.95294578e-01 2.35635678e-01 8.42834124e-01 9.76529075e-02\n",
      " 7.17778784e-01 5.22899490e-04 7.98172529e-01 3.90218226e-01\n",
      " 8.27813103e-01 7.27111807e-01]\n",
      "logistic_regression:\n",
      "F1-Score:  0.8004379575475604\n",
      "ROC_AUC_score:  0.7966849425072151\n",
      "accuracy_score:  0.796659375 \n",
      "\n",
      "\n"
     ]
    },
    {
     "data": {
      "image/png": "[encoded data removed]",
      "text/plain": [
       "<Figure size 1080x360 with 4 Axes>"
      ]
     },
     "metadata": {
      "needs_background": "light"
     },
     "output_type": "display_data"
    },
    {
     "data": {
      "text/plain": [
       "None"
      ]
     },
     "metadata": {},
     "output_type": "display_data"
    },
    {
     "data": {
      "image/png": "[encoded data removed]",
      "text/plain": [
       "<Figure size 1080x720 with 1 Axes>"
      ]
     },
     "metadata": {},
     "output_type": "display_data"
    },
    {
     "data": {
      "text/plain": [
       "None"
      ]
     },
     "metadata": {},
     "output_type": "display_data"
    },
    {
     "name": "stdout",
     "output_type": "stream",
     "text": [
      "auc probability: 0.8537749809724052\n",
      "top 10 scores:  [4.33114034e-01 4.91427959e-01 9.06063333e-01 2.86677495e-02\n",
      " 6.60121951e-01 1.86632852e-05 9.16567549e-01 1.36180883e-01\n",
      " 7.73173899e-01 6.04248765e-01]\n",
      "naive_bayes:\n",
      "F1-Score:  0.7774629875248095\n",
      "ROC_AUC_score:  0.7802942679440081\n",
      "accuracy_score:  0.780309375 \n",
      "\n",
      "\n"
     ]
    },
    {
     "data": {
      "image/png": "[encoded data removed]",
      "text/plain": [
       "<Figure size 1080x360 with 4 Axes>"
      ]
     },
     "metadata": {},
     "output_type": "display_data"
    },
    {
     "data": {
      "text/plain": [
       "None"
      ]
     },
     "metadata": {},
     "output_type": "display_data"
    },
    {
     "data": {
      "image/png": "[encoded data removed]",
      "text/plain": [
       "<Figure size 1080x720 with 1 Axes>"
      ]
     },
     "metadata": {},
     "output_type": "display_data"
    },
    {
     "data": {
      "text/plain": [
       "None"
      ]
     },
     "metadata": {},
     "output_type": "display_data"
    }
   ],
   "source": [
    "for clf in ['logistic_regression', 'naive_bayes']:\n",
    "    train_classifier(X_train, y_train, X_val, y_val, classifier = str(clf))"
   ]
  },
  {
   "cell_type": "code",
   "execution_count": 55,
   "id": "e368afa2-1a8f-489f-a5d7-e3108f8c9b11",
   "metadata": {},
   "outputs": [
    {
     "name": "stdout",
     "output_type": "stream",
     "text": [
      "auc probability: 0.8439662453781822\n",
      "top 10 scores:  [0.32450023 0.14603299 0.63469515 0.16509368 0.56948704 0.028494\n",
      " 0.65176398 0.43665285 0.4536232  0.44394751]\n",
      "lgbm:\n",
      "F1-Score:  0.7718413723352234\n",
      "ROC_AUC_score:  0.7652851634222263\n",
      "accuracy_score:  0.765246875 \n",
      "\n",
      "\n"
     ]
    },
    {
     "data": {
      "image/png": "[encoded data removed]",
      "text/plain": [
       "<Figure size 1080x360 with 4 Axes>"
      ]
     },
     "metadata": {},
     "output_type": "display_data"
    },
    {
     "data": {
      "text/plain": [
       "None"
      ]
     },
     "metadata": {},
     "output_type": "display_data"
    },
    {
     "data": {
      "image/png": "[encoded data removed]",
      "text/plain": [
       "<Figure size 1080x720 with 1 Axes>"
      ]
     },
     "metadata": {},
     "output_type": "display_data"
    },
    {
     "data": {
      "text/plain": [
       "None"
      ]
     },
     "metadata": {},
     "output_type": "display_data"
    },
    {
     "name": "stdout",
     "output_type": "stream",
     "text": [
      "[06:51:49] WARNING: ../src/learner.cc:1115: Starting in XGBoost 1.3.0, the default evaluation metric used with the objective 'binary:logistic' was changed from 'error' to 'logloss'. Explicitly set eval_metric if you'd like to restore the old behavior.\n",
      "auc probability: 0.8426691308269618\n",
      "top 10 scores:  [0.40301505 0.20590252 0.6129621  0.20077403 0.6372723  0.01881069\n",
      " 0.5346998  0.26279625 0.37504542 0.46180147]\n",
      "xgboost:\n",
      "F1-Score:  0.7728338371508363\n",
      "ROC_AUC_score:  0.76567313056302\n",
      "accuracy_score:  0.76563125 \n",
      "\n",
      "\n"
     ]
    },
    {
     "data": {
      "image/png": "[encoded data removed]",
      "text/plain": [
       "<Figure size 1080x360 with 4 Axes>"
      ]
     },
     "metadata": {},
     "output_type": "display_data"
    },
    {
     "data": {
      "text/plain": [
       "None"
      ]
     },
     "metadata": {},
     "output_type": "display_data"
    },
    {
     "data": {
      "image/png": "[encoded data removed]",
      "text/plain": [
       "<Figure size 1080x720 with 1 Axes>"
      ]
     },
     "metadata": {},
     "output_type": "display_data"
    },
    {
     "data": {
      "text/plain": [
       "None"
      ]
     },
     "metadata": {},
     "output_type": "display_data"
    }
   ],
   "source": [
    "for clf in ['lgbm', 'xgboost']:\n",
    "    train_classifier(X_train, y_train, X_val, y_val, classifier = str(clf))"
   ]
  },
  {
   "cell_type": "markdown",
   "id": "1cf3813d-108f-4901-a145-f968aca5d267",
   "metadata": {
    "jp-MarkdownHeadingCollapsed": true,
    "tags": []
   },
   "source": [
    "### Tuning Model"
   ]
  },
  {
   "cell_type": "code",
   "execution_count": 56,
   "id": "d9e7717a-e998-4af8-86c1-44173273c714",
   "metadata": {},
   "outputs": [
    {
     "name": "stderr",
     "output_type": "stream",
     "text": [
      "/home/huzaifa/anaconda3/envs/tf2/lib/python3.9/site-packages/sklearn/linear_model/_logistic.py:814: ConvergenceWarning: lbfgs failed to converge (status=1):\n",
      "STOP: TOTAL NO. of ITERATIONS REACHED LIMIT.\n",
      "\n",
      "Increase the number of iterations (max_iter) or scale the data as shown in:\n",
      "    https://scikit-learn.org/stable/modules/preprocessing.html\n",
      "Please also refer to the documentation for alternative solver options:\n",
      "    https://scikit-learn.org/stable/modules/linear_model.html#logistic-regression\n",
      "  n_iter_i = _check_optimize_result(\n",
      "/home/huzaifa/anaconda3/envs/tf2/lib/python3.9/site-packages/sklearn/linear_model/_logistic.py:814: ConvergenceWarning: lbfgs failed to converge (status=1):\n",
      "STOP: TOTAL NO. of ITERATIONS REACHED LIMIT.\n",
      "\n",
      "Increase the number of iterations (max_iter) or scale the data as shown in:\n",
      "    https://scikit-learn.org/stable/modules/preprocessing.html\n",
      "Please also refer to the documentation for alternative solver options:\n",
      "    https://scikit-learn.org/stable/modules/linear_model.html#logistic-regression\n",
      "  n_iter_i = _check_optimize_result(\n"
     ]
    }
   ],
   "source": [
    "# c_params = [0.001,0.01,0.1,1,10,100]\n",
    "# for i in c_params:\n",
    "#     model = LogisticRegression(C=i, n_jobs=-1)\n",
    "#     model.fit(X_train, y_train)\n",
    "#     pred = model.predict(X_val)\n",
    "#     print('The Value of C = {}'.format(i))\n",
    "#     display(classi_repo(y_val, pred))\n",
    "model = LogisticRegression(C=1., max_iter=1000, penalty='l2', n_jobs=-1)\n",
    "cross_val_score(model,X_train,y_train,cv=5)\n",
    "model.fit(X_train, y_train)\n",
    "pred = model.predict(X_val)"
   ]
  },
  {
   "cell_type": "code",
   "execution_count": 57,
   "id": "98daac6a-ab91-449d-9fb3-26368cd6f064",
   "metadata": {},
   "outputs": [
    {
     "name": "stdout",
     "output_type": "stream",
     "text": [
      "Classifier:\n",
      "F1-Score:  0.8003281044260177\n",
      "ROC_AUC_score:  0.7976715992050374\n",
      "accuracy_score:  0.797653125 \n",
      "\n",
      "\n"
     ]
    },
    {
     "data": {
      "image/png": "[encoded data removed]",
      "text/plain": [
       "<Figure size 1080x360 with 4 Axes>"
      ]
     },
     "metadata": {},
     "output_type": "display_data"
    },
    {
     "data": {
      "text/plain": [
       "None"
      ]
     },
     "metadata": {},
     "output_type": "display_data"
    },
    {
     "data": {
      "image/png": "[encoded data removed]",
      "text/plain": [
       "<Figure size 1080x720 with 1 Axes>"
      ]
     },
     "metadata": {},
     "output_type": "display_data"
    },
    {
     "data": {
      "text/plain": [
       "None"
      ]
     },
     "metadata": {},
     "output_type": "display_data"
    }
   ],
   "source": [
    "display(classi_repo(y_val, pred))\n",
    "display(auc_roc_plot(y_val, pred))"
   ]
  },
  {
   "cell_type": "code",
   "execution_count": 58,
   "id": "a1b3ae5a-f307-4e91-9935-4b729394cba1",
   "metadata": {},
   "outputs": [
    {
     "data": {
      "text/plain": [
       "{'C': 1.0,\n",
       " 'class_weight': None,\n",
       " 'dual': False,\n",
       " 'fit_intercept': True,\n",
       " 'intercept_scaling': 1,\n",
       " 'l1_ratio': None,\n",
       " 'max_iter': 1000,\n",
       " 'multi_class': 'auto',\n",
       " 'n_jobs': -1,\n",
       " 'penalty': 'l2',\n",
       " 'random_state': None,\n",
       " 'solver': 'lbfgs',\n",
       " 'tol': 0.0001,\n",
       " 'verbose': 0,\n",
       " 'warm_start': False}"
      ]
     },
     "execution_count": 58,
     "metadata": {},
     "output_type": "execute_result"
    }
   ],
   "source": [
    "model.get_params()"
   ]
  },
  {
   "cell_type": "markdown",
   "id": "e0585a21-e051-40f7-be58-29ab16317f6d",
   "metadata": {
    "jp-MarkdownHeadingCollapsed": true,
    "tags": []
   },
   "source": [
    "### predict Test set"
   ]
  },
  {
   "cell_type": "code",
   "execution_count": 59,
   "id": "c7243abc-d11d-433f-9d0e-1b6a69d1859e",
   "metadata": {},
   "outputs": [],
   "source": [
    "test_pre = model.predict(df_test)"
   ]
  },
  {
   "cell_type": "code",
   "execution_count": 60,
   "id": "93c43f31-d292-426a-8089-41da10a30193",
   "metadata": {},
   "outputs": [
    {
     "data": {
      "text/plain": [
       "array([0, 0, 0, 0, 0, 1, 0, 1, 1, 0])"
      ]
     },
     "execution_count": 60,
     "metadata": {},
     "output_type": "execute_result"
    }
   ],
   "source": [
    "test_pre[:10]"
   ]
  },
  {
   "cell_type": "markdown",
   "id": "7f075c81-d870-431f-9d0c-7884d8c8ab96",
   "metadata": {
    "jp-MarkdownHeadingCollapsed": true,
    "tags": []
   },
   "source": [
    "### CSV File"
   ]
  },
  {
   "cell_type": "code",
   "execution_count": 61,
   "id": "0fda00e3-2cc0-4234-bbc3-500ad9e2de0e",
   "metadata": {},
   "outputs": [],
   "source": [
    "# sub.head()"
   ]
  },
  {
   "cell_type": "code",
   "execution_count": 62,
   "id": "f5c47ea6-e93d-4b4e-8e97-cdc741990932",
   "metadata": {},
   "outputs": [],
   "source": [
    "# sub['target'] = test_pre\n",
    "# sub.to_csv('sub1.csv', index=False)"
   ]
  },
  {
   "cell_type": "code",
   "execution_count": null,
   "id": "4e774d11-2cbb-4327-ae29-7ffc5d904734",
   "metadata": {},
   "outputs": [],
   "source": []
  }
 ],
 "metadata": {
  "kernelspec": {
   "display_name": "Python 3",
   "language": "python",
   "name": "python3"
  },
  "language_info": {
   "codemirror_mode": {
    "name": "ipython",
    "version": 3
   },
   "file_extension": ".py",
   "mimetype": "text/x-python",
   "name": "python",
   "nbconvert_exporter": "python",
   "pygments_lexer": "ipython3",
   "version": "3.9.7"
  }
 },
 "nbformat": 4,
 "nbformat_minor": 5
}
